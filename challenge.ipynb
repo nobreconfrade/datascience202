{
 "cells": [
  {
   "cell_type": "markdown",
   "metadata": {},
   "source": [
    "## Let's do this!\n",
    "\n",
    "## Name: William Pereira\n",
    "\n",
    "### This notebook has both answers and comments on the questions. I tried to build it in a way that was close to a report, so everything is in one single document. If you reading this and doesn't understand code well and it's here for the numbers, just read the texts and charts because they will give you the answers.\n",
    "\n",
    "#### First I'll put the description relative to the challenge, them I'll import some libraries and do some programming to answer the questions.\n"
   ]
  },
  {
   "cell_type": "markdown",
   "metadata": {},
   "source": [
    "Linx Impulse is atop the world of e-commerce, delivering to each user a unique and personalized experience while shopping online. We have the biggest database of behavioral data of the Latam market and we use it to build amazing products that deliver product recommendations, search results and targeted newsletters to millions of people everyday.\n",
    "\n",
    "Our Data Scientists are on a mission to increment company value by applying statistics and machine learning techniques to our vast sea of data. We are looking for someone who can generate story from data and is willing to work in all stages of our pipeline.\n",
    "\n",
    "You will help with product performance analysis and insights generation. Focusing exclusively on understanding the underlying mechanisms of how decisions can affect conversion, lift and other KPIs in our product suite.\n",
    "\n",
    "But first, you have to prove yourself capable by overcoming this coding challenge. Since this is an opening for an intern position, we rely more on the potential shown in your solutions than on your CV to judge the candidates. So, do your best and good work!\n",
    "\n",
    "The Challenge¶\n",
    "You are given a sample of a full week of anonymized interaction events from an e-commerce.\n",
    "Your task is to understand the data and show us patterns and insights to further tune our solutions for that online retailer.\n",
    "\n",
    "For that purpose, you will have to:\n",
    "\n",
    "Download and parse the data\n",
    "Understand (research if needed) what is being asked to calculate\n",
    "Write legible, reproducible and efficient code to compute those metrics\n",
    "Report the results with the appropriate tables and plots\n",
    "\n",
    "Inputs¶\n",
    "Just download from this link: **HIDDEN**\n",
    "20M compressed, 300M uncompressed.\n",
    "\n",
    "All events captured are stored in JSON format. There are 4 types of events therein: page, product, search and transaction.\n",
    "\n",
    "Below, every field of each type will be described. Many hints hidden there (Google is your friend).\n",
    "\n",
    "Page¶\n",
    "Generic pageview event.\n",
    "{'eventType': 'page',            # identifies the type of event\n",
    " \n",
    " 'date': '2017-06-03 18:20:53',  # timestamp of event generation\n",
    " \n",
    " 'visitor': '4ce48a50-f688-11e6-aed6-b52bfa51fc22', # visitor persistent and unique id\n",
    "\n",
    " 'deviceType': 'mobile',         # either desktop or mobile\n",
    "\n",
    " 'osType': 'Android',            # operating system extracted from user-agent\n",
    "\n",
    " 'osVersion': '6.0',             # operating system version\n",
    "\n",
    " 'browserType': 'Chrome Mobile', # browser\n",
    "\n",
    " 'browserVersion': '58.0.3029',  # browser version\n",
    "\n",
    " 'referrerType': 'search',       # search (Google)| social (Facebook)| other| direct (no referrer)\n",
    "\n",
    " 'utm_source': 'Partner_9',      # redacted acquisition channel partner\n",
    "\n",
    " 'utm_medium': 'Medium_7',       # redacted acquisition medium (normally email or ads)\n",
    "\n",
    " 'utm_campaign': 'Campaign_17',  # redacted acquisition campaign (like cart abandonment email)\n",
    "\n",
    " 'pageType': 'subcategory',      # useful to build a conversion funnel\n",
    "\n",
    " 'category': '319|689',          # hierarchical product category (689 is inside 319)\n",
    "\n",
    " 'url': '7806427dfc116ddbbcb37095a477330851b0afe9',     # hashed URL\n",
    "\n",
    " 'referrer': '18691404689e091548a691bf31b9995e8e7b9fcd' # hashed referrer\n",
    "}\n",
    "\n",
    "Product¶\n",
    "\n",
    "Product details pageview event\n",
    "\n",
    "{'eventType': 'product',\n",
    "\n",
    " 'date': '2017-06-01 13:35:13',\n",
    "\n",
    " 'visitor': '4806c650-46e8-11e7-8604-956bce5b488e',\n",
    "\n",
    " 'deviceType': 'desktop',\n",
    "\n",
    " 'osType': 'Windows',\n",
    "\n",
    " 'osVersion': '7',\n",
    "\n",
    " 'browserType': 'Chrome',\n",
    "\n",
    " 'browserVersion': '58.0.3029',\n",
    "\n",
    " 'referrerType': 'direct',\n",
    "\n",
    " 'utm_source': 'Partner_4',\n",
    "\n",
    " 'utm_medium': 'Medium_3',\n",
    "\n",
    " 'utm_campaign': 'Campaign_3',\n",
    "\n",
    " 'pageType': 'product',\n",
    "\n",
    " 'category': '558|727',\n",
    "\n",
    " 'url': '9a1cbff5cbff8666be513efeee781a71ff556f5f',\n",
    "\n",
    " 'referrer': None,\n",
    "\n",
    " 'product': 5639,               # product unique id\n",
    "\n",
    " 'tags': ['216', '695', '944'], # tag codes associated with that product\n",
    "\n",
    " 'price': 24.9,                 # product value\n",
    "\n",
    " 'status': 'AVAILABLE'          # AVAILABLE, UNAVAILABLE or REMOVED\n",
    "}\n",
    "\n",
    "Search¶\n",
    "Search results pageview event\n",
    "\n",
    "{'eventType': 'search',\n",
    "\n",
    " 'date': '2017-06-03 09:02:06',\n",
    "\n",
    " 'visitor': '0eccdd90-477d-11e6-b479-450984b9b0b7',\n",
    "\n",
    " 'deviceType': 'desktop',\n",
    "\n",
    " 'osType': 'Windows',\n",
    "\n",
    " 'osVersion': None,\n",
    "\n",
    " 'browserType': 'Chrome',\n",
    "\n",
    " 'browserVersion': '51.0.2683',\n",
    "\n",
    " 'referrerType': None,\n",
    "\n",
    " 'utm_source': None,\n",
    "\n",
    " 'utm_medium': None,\n",
    "\n",
    " 'utm_campaign': None,\n",
    "\n",
    " 'pageType': 'search',\n",
    "\n",
    " 'category': None,\n",
    "\n",
    " 'url': '95a9fe3739eef4f7f38c6c0644e319ba77a1349a',\n",
    "\n",
    " 'referrer': '5c808dff012fcbe74dc2941a7664e357db367176',\n",
    "\n",
    " 'query': 'papel ou casa ventosa',      # obfuscated search query\n",
    "\n",
    " 'searchItems': [6077,15749,3398,8007,  # products returned as a result of that query\n",
    "                 18741,832,19311,12891, # respecting the order they were shown\n",
    "                 3264,16885,20613,156,\n",
    "                 11030,16204,2247,127,\n",
    "                 17178,6166,268,1851,\n",
    "                 2521,20810,16551,18626]\n",
    "}\n",
    "\n",
    "Transaction¶\n",
    "Purchase confirmation pageview event\n",
    "{'eventType': 'transaction',\n",
    "\n",
    " 'date': '2017-06-01 17:30:54',\n",
    "\n",
    " 'visitor': '84cc0d00-462c-11e7-93a0-39eac0558d08',\n",
    "\n",
    " 'deviceType': 'desktop',\n",
    "\n",
    " 'osType': 'Windows',\n",
    "\n",
    " 'osVersion': None,\n",
    "\n",
    " 'browserType': 'Firefox',\n",
    "\n",
    " 'browserVersion': '53.0.0',\n",
    "\n",
    " 'referrerType': None,\n",
    "\n",
    " 'utm_source': None,\n",
    "\n",
    " 'utm_medium': None,\n",
    "\n",
    " 'utm_campaign': None,\n",
    "\n",
    " 'pageType': 'confirmation',\n",
    "\n",
    " 'category': None,\n",
    "\n",
    " 'url': 'da7caa77e2729e12b32a9d7d1a324652ce2264a6',\n",
    "\n",
    " 'referrer': '6e03ee62984224d0c0f08d4b68b819297d7f4d14',\n",
    "\n",
    " 'order': 5545,        # unique transaction id\n",
    "\n",
    " 'orderItems': [{      # list of products bought in that transaction\n",
    "     'product': 16493, # product id\n",
    "     'price': 19.9,    # product unit price\n",
    "     'quantity': 1.0   # number of units bought\n",
    "  },\n",
    "  {'product': 1432, 'price': 20.9, 'quantity': 1.0},\n",
    "  {'product': 4621, 'price': 395.01, 'quantity': 1.0}]\n",
    "}\n",
    "\n",
    "\n",
    "Questions¶\n",
    "Using this dataset, retrieve the demanded information.\n",
    "\n",
    "As you progress, you will notice the questions become increasingly methodologically ambigous. You will have to make decisions, and explicitely state them, on what assumptions or simplifications were made.\n",
    "\n",
    "Always keep in mind that usefulness is the most important characteristc of any good metric.\n",
    "\n",
    "Also, timing is more important than completeness. So, we prefer that you hand us less answers but thorough ones than all of them but half baked or belated. Go as far as you can, until the deadline.\n",
    "\n",
    "### 1. What was the total revenue?¶\n",
    "### 2. What percentage of visitors used a mobile device?¶\n",
    "### 3. What search query had the highest click-through rate?¶\n",
    "Among queries with at least 15 instances.\n",
    "It's considered a click if the target page is a product page and its product id was in the list of search results.\n",
    "\n",
    "### 4. When is the site most busy?¶\n",
    "Do both what part of the day and what day of the week.\n",
    "\n",
    "### 5. What is the share of revenue among categories brought by Campaign_2?¶\n",
    "Use last touch attribution\n",
    "\n",
    "### 6. Estimate the impact of unavailable products¶\n",
    "Bonus points if you consider cross-elasticity\n",
    "(don't fret too much. deliver something, no model is ever going to be perfect anyway)\n",
    "\n",
    "Results delivery¶\n",
    "The main deliverable is a Report with your answers.\n",
    "And accompanying details, such as criteria used and neat plots.\n",
    "You may use any language, tools, and cloud services you want.\n",
    "But if you use Python we will like you more ;)\n",
    "If you do well on the Report, we will want to see your code.\n",
    "Which should be hosted on github or another online repository you can share with us.\n",
    "Documentation¶\n",
    "We encourage you to write down every step down the road. Design decisions, references you used, difficulties and insights, and partial results.\n",
    "That way, wrapping it all up when we call you for the interview should be a breeze.\n",
    "\n",
    "If you have any doubts, feel free to contact us."
   ]
  },
  {
   "cell_type": "code",
   "execution_count": 1,
   "metadata": {},
   "outputs": [],
   "source": [
    "import jsonlines, json\n",
    "import random\n",
    "import pandas\n",
    "import datetime\n",
    "import seaborn as sns\n",
    "import matplotlib.pyplot as plt"
   ]
  },
  {
   "cell_type": "markdown",
   "metadata": {},
   "source": [
    "Ok, first things first, let's answer the question:\n",
    "\n",
    "### 1. What was the total revenue?\n",
    "\n",
    "To answer this question, we should look for the transaction events, those events configures transactions made within the website so the revenue is directly conected to it, let's get some info about it. "
   ]
  },
  {
   "cell_type": "code",
   "execution_count": 2,
   "metadata": {},
   "outputs": [
    {
     "name": "stdout",
     "output_type": "stream",
     "text": [
      "554\n"
     ]
    }
   ],
   "source": [
    "i = 0\n",
    "with jsonlines.open('data.ndjson') as r:\n",
    "    for item in r:\n",
    "        if (item['eventType'] == 'transaction'):\n",
    "            i+=1\n",
    "    print(i)"
   ]
  },
  {
   "cell_type": "code",
   "execution_count": 3,
   "metadata": {},
   "outputs": [],
   "source": [
    "dataTransaction = []\n",
    "revenue = 0\n",
    "with jsonlines.open('data.ndjson') as r:\n",
    "    for item in r:\n",
    "        if (item['eventType'] == 'transaction'):\n",
    "            for i in item['orderItems']:\n",
    "                aux = 0\n",
    "                aux = i['price']\n",
    "                aux *= int(i['quantity'])\n",
    "                revenue += aux"
   ]
  },
  {
   "cell_type": "code",
   "execution_count": 4,
   "metadata": {},
   "outputs": [
    {
     "name": "stdout",
     "output_type": "stream",
     "text": [
      "212022.26999999894\n"
     ]
    }
   ],
   "source": [
    "print(revenue)"
   ]
  },
  {
   "cell_type": "markdown",
   "metadata": {},
   "source": [
    "### So, the revenue is about ``$ 212022.26`` monetary unit (probably Reais but referring as monetary unit is a safe bet)\n",
    "\n",
    "That's answer the first question, I did the calculation thinking the data has no repeated sales or invalid ones. \n",
    "The long float number that can be seem above is probably because of how [Python solves it's equations with float](https://docs.python.org/3.4/tutorial/floatingpoint.html), and the error should be small.\n",
    "\n",
    "If there is time I'll check this question back later, but for now let's move on to the next one."
   ]
  },
  {
   "cell_type": "markdown",
   "metadata": {},
   "source": [
    "## 2. What percentage of visitors used a mobile device?\n",
    "To answer that question we need to know how to much mobile users we have, as well as what we consider a visitor. \n",
    "So, now we need to decide what we consider a visitor. This is actually a tough question since we have a loot of data about how people use the ecommerce. If we consider all the data we have, it's about 600k entries on the use of it, so it's hard to do some queries to get only single page use.\n",
    "\n",
    "So what I call single page use? Based on the visitor field, we can select a entry of the visitor and ignore other operations he did in the ecommerce, getting a more realistic set of data of how many people use the site with mobile devices and not how much they use. The problem with this approach is that some people may use the ecommerce both with phone and with desktop (such as search something in the phone and then buy on the PC). Since those data will be obfuscated, we can try to minimize the damage by taking a random entry of the user.\n",
    "\n",
    "One more thing, to get a more precise information we can select what kind of visitor we want to know. So I'm going to extract two informations to answer this question. First I'm going to see how much people that use the search engine of the ecommerce use it with the smartphone. To do it I'll search single page uses only on the ```eventType = 'search'```. I consider this to be a good information to get people that are already engaged with the website and, of the overall users, how much uses with smartphone. The second info is almost the same as the first, except that I'm taking the ```eventType = 'page'``` to get people that browses throw the ecommerce. Theres a lot of data on those, so I'm only taking one day, which will give me about the same number of entries of the first information. "
   ]
  },
  {
   "cell_type": "code",
   "execution_count": 5,
   "metadata": {},
   "outputs": [
    {
     "name": "stdout",
     "output_type": "stream",
     "text": [
      "57737\n",
      "30083\n"
     ]
    }
   ],
   "source": [
    "l = []\n",
    "with jsonlines.open('data.ndjson') as r:\n",
    "    for item in r:\n",
    "        if (item['deviceType'] != None):\n",
    "            if (item['eventType'] == 'search'):\n",
    "                l.append(item)\n",
    "    print(len(l))\n",
    "    # The data is organized by date, so we need to shuffle the list to get a random value\n",
    "    random.shuffle(l)\n",
    "    for x,item1 in enumerate(l):\n",
    "        for y,item2 in enumerate(l):\n",
    "            if (item1['visitor'] == item2['visitor'] and x != y):\n",
    "                l.pop(y)\n",
    "                break\n",
    "    ul = l            \n",
    "    print(len(ul))"
   ]
  },
  {
   "cell_type": "markdown",
   "metadata": {},
   "source": [
    "PS: The code that I'm using above to verify duplicate page views is not exactly scalable (since is O(n²) time complexity) but for the number of entries I'm checking (less then 60k) this code runs in 5 to 10 minutes. For now, since I'm doing this code alone and in a specific data set, I'll use it that away. But if you guys have a better way to do it, maybe using ```set()``` method, I'm glad to learn."
   ]
  },
  {
   "cell_type": "code",
   "execution_count": 6,
   "metadata": {},
   "outputs": [
    {
     "name": "stdout",
     "output_type": "stream",
     "text": [
      "660\n"
     ]
    }
   ],
   "source": [
    "count = 0\n",
    "for i in ul:\n",
    "    if (i['deviceType'] == 'mobile'):\n",
    "        count += 1\n",
    "print(count)"
   ]
  },
  {
   "cell_type": "code",
   "execution_count": 7,
   "metadata": {},
   "outputs": [
    {
     "name": "stdout",
     "output_type": "stream",
     "text": [
      "527265\n",
      "58426\n"
     ]
    }
   ],
   "source": [
    "tam = 0\n",
    "l = []\n",
    "with jsonlines.open('data.ndjson') as r:\n",
    "    for item in r:\n",
    "        # deviceType is never null\n",
    "        if (item['eventType'] == 'page'):\n",
    "            tam +=1\n",
    "            if (item['date'].split(' ')[0] == '2017-06-03'):\n",
    "                l.append(item)\n",
    "    print(tam)\n",
    "    print(len(l))"
   ]
  },
  {
   "cell_type": "code",
   "execution_count": 8,
   "metadata": {},
   "outputs": [
    {
     "name": "stdout",
     "output_type": "stream",
     "text": [
      "31106\n"
     ]
    }
   ],
   "source": [
    "random.shuffle(l)\n",
    "for x,item1 in enumerate(l):\n",
    "    for y,item2 in enumerate(l):\n",
    "        if (item1['visitor'] == item2['visitor'] and x != y):\n",
    "            l.pop(y)\n",
    "            break\n",
    "print(len(l))"
   ]
  },
  {
   "cell_type": "code",
   "execution_count": 9,
   "metadata": {},
   "outputs": [
    {
     "name": "stdout",
     "output_type": "stream",
     "text": [
      "17776\n"
     ]
    }
   ],
   "source": [
    "count = 0\n",
    "for i in l:\n",
    "    if (i['deviceType'] == 'mobile'):\n",
    "        count += 1\n",
    "print(count)"
   ]
  },
  {
   "cell_type": "code",
   "execution_count": 10,
   "metadata": {},
   "outputs": [
    {
     "name": "stdout",
     "output_type": "stream",
     "text": [
      "2.107222388406953\n",
      "57.59398012670033\n"
     ]
    }
   ],
   "source": [
    "#Percentage for first information\n",
    "x = (634/30087)*100\n",
    "#Percentage for second information\n",
    "y = (17910/31097)*100\n",
    "print(x)\n",
    "print(y)"
   ]
  },
  {
   "cell_type": "markdown",
   "metadata": {},
   "source": [
    "### And with those numbers, we can say that about ``%2.10`` of users use mobile to search for products ẁith the search engine and about ``%57.59`` uses to browse through the ecommerce (in one day of data analysis).\n",
    "\n",
    "PS: The values are \"about\" because I use some random elements like shuffle the list to take a random entry of the user."
   ]
  },
  {
   "cell_type": "markdown",
   "metadata": {},
   "source": [
    "## 3. What search query had the highest click-through rate?¶\n",
    "#### Among queries with at least 15 instances. It's considered a click if the target page is a product page and its product id was in the list of search results.\n",
    "\n",
    "To begin with we better power up a little. Since now I did manage to get the answer only with json and Python json support, but from here on we should start using Pandas for better view of the data. So I'll create a data frame for each event type."
   ]
  },
  {
   "cell_type": "code",
   "execution_count": 11,
   "metadata": {},
   "outputs": [],
   "source": [
    "search = []\n",
    "product = []\n",
    "page = []\n",
    "transaction = []\n",
    "with jsonlines.open('data.ndjson') as r:\n",
    "    for item in r:\n",
    "        if (item['eventType'] == 'search'):\n",
    "            search.append(item)\n",
    "        if (item['eventType'] == 'product'):\n",
    "            product.append(item)\n",
    "        if (item['eventType'] == 'page'):\n",
    "            page.append(item)\n",
    "        if (item['eventType'] == 'transaction'):\n",
    "            transaction.append(item)\n",
    "dfProduct = pandas.DataFrame(product) \n",
    "dfSearch = pandas.DataFrame(search)\n",
    "dfPage = pandas.DataFrame(page)\n",
    "dfTransaction = pandas.DataFrame(transaction)"
   ]
  },
  {
   "cell_type": "markdown",
   "metadata": {},
   "source": [
    "I'll use those data frames for data analisys and data management. In the specific case of this question I'll use two lists because ```iterrows()``` is EXTREMELY slow and I'm using two O(n²) time complexity algorithms.\n"
   ]
  },
  {
   "cell_type": "code",
   "execution_count": 12,
   "metadata": {},
   "outputs": [],
   "source": [
    "search = []\n",
    "with jsonlines.open('data.ndjson') as r:\n",
    "    for item in r:\n",
    "        if (item['eventType'] == 'search'):\n",
    "            search.append(item)"
   ]
  },
  {
   "cell_type": "markdown",
   "metadata": {},
   "source": [
    "\n",
    "To speed up the process and eliminate duplicates I'll pop from the list queries I already verified."
   ]
  },
  {
   "cell_type": "code",
   "execution_count": 13,
   "metadata": {},
   "outputs": [],
   "source": [
    "queries = []\n",
    "for i,a in enumerate(search):\n",
    "    c = 0\n",
    "    aux = []\n",
    "    for j,b in enumerate(search):\n",
    "        if(a['query'] == b['query']):\n",
    "            c += 1\n",
    "            aux.append(j)\n",
    "            if (c == 16):\n",
    "                queries.append(a)\n",
    "    if (c > 15):\n",
    "        for k,item in enumerate(aux):\n",
    "            search.pop(item-k)"
   ]
  },
  {
   "cell_type": "code",
   "execution_count": 14,
   "metadata": {},
   "outputs": [],
   "source": [
    "product = []\n",
    "with jsonlines.open('data.ndjson') as r:\n",
    "    for item in r:\n",
    "        if (item['eventType'] == 'product'):\n",
    "            product.append(item)"
   ]
  },
  {
   "cell_type": "code",
   "execution_count": 15,
   "metadata": {},
   "outputs": [],
   "source": [
    "rank = {}\n",
    "for item1 in queries:\n",
    "    for item2 in product:\n",
    "        if (item1['url'] == item2['referrer']):\n",
    "            for i in item1['searchItems']:\n",
    "                if (item2['product'] == i):\n",
    "                    if (item1['query'] not in rank):\n",
    "                        rank[item1['query']] = 1\n",
    "                    else:\n",
    "                        rank[item1['query']] += 1"
   ]
  },
  {
   "cell_type": "code",
   "execution_count": 16,
   "metadata": {},
   "outputs": [
    {
     "name": "stdout",
     "output_type": "stream",
     "text": [
      "1 fabrimar 1433423 lorenside escadas led: 1\n",
      "1 forma 1907140 vaso: 1\n",
      "1,00: 1\n",
      "150x185x75 niteroi: 1\n",
      "1698885 brasillit 1253220 resina: 1\n",
      "1731068 cabo: 1\n",
      "1752995: 1\n",
      "34740 1897730: 1\n",
      "45,5x46x44,5 fabrimar: 1\n",
      "4x4 fio: 1\n",
      "5000 alicate sku: sanfonada flexivel registro: 1\n",
      "538353 1/5 1800841 m: 1\n",
      "75 plus produto: 1\n",
      "770078 1732307 revestimento medidor suporte: 1\n",
      "8 piso 2,5 fios chave chrome: 1\n",
      "815594 telha quadro branco/preto cecafi: 1\n",
      "acessorios acqua branco: 1\n",
      "acoplada soul pulverizador 1754041: 1\n",
      "acrílica aclopada extra hydra metal: 1\n",
      "anel chão porta aluminio: 1\n",
      "bco crepe resina 5500w banheiro: 1\n",
      "bianco piso 40mm: 1\n",
      "branco tinta refrataria iluminação 6l fechadura: 1\n",
      "cadeiras pistão som wh ceramica 15: 1\n",
      "caixa 1877488 escada: 1\n",
      "calha luminárias antiderrapante: 1\n",
      "cement cimento tintas: 1\n",
      "ceramica muito vaso: 1\n",
      "chave 25: 1\n",
      "chuveiro subway 1,20: 1\n",
      "chão cv 1746243: 1\n",
      "comprimento 4,0mm² duas: 1\n",
      "coral azulejo: 1\n",
      "cortina tinta universal suvinil: 1\n",
      "cuba forusi: 1\n",
      "dancor coral: 1\n",
      "descarga branco sensor revestimento: 1\n",
      "digital apoio acoplada entrada 1871099: 1\n",
      "elétrica: 1\n",
      "flange concreto vernizes bastidor arandela tomada: 1\n",
      "função es: 1\n",
      "inox sabão deca: 1\n",
      "joelho neve: 1\n",
      "louça schulz torneira: 1\n",
      "pare: 1\n",
      "pias perfeito: 1\n",
      "pisos telha] roda zeta combinada 45: 1\n",
      "placa blue: 1\n",
      "porta 300mm: 1\n",
      "promoção porcelanato: 1\n",
      "retangular t: 1\n",
      "revestimento smartv: 1\n",
      "rolo theater: 1\n",
      "tartaruga pisos: 1\n",
      "tinta argamassa pessoa lavada multitemperatura: 1\n",
      "via caixa 50: 1\n",
      "vinil porcelanato nível: 1\n",
      "10mm 624330: 2\n",
      "30 cadeiras new: 2\n",
      "30000 banheiro madeira: 2\n",
      "50mm cimento: 2\n",
      "6mm acetinada quarto: 2\n",
      "810878: 2\n",
      "aço led: 2\n",
      "bicama base phd48250r revestimento: 2\n",
      "branco argamassa caixa jardim: 2\n",
      "branco mandril madeira piso bronze pp: 2\n",
      "bucha 2000 1/4 piso: 2\n",
      "bucha vinho: 2\n",
      "cabo ducha segurança revestimento: 2\n",
      "céu cia acrilico descarga: 2\n",
      "esmalte fita continental revestimento: 2\n",
      "fiori hammerite deca 1.30cm ducha: 2\n",
      "fundido revestimento chuveiro: 2\n",
      "henn basculante 601322: 2\n",
      "icasa door ilha: 2\n",
      "litros elétrica delta bom produto: 2\n",
      "m 10a: 2\n",
      "mandril fosco torneira arvore: 2\n",
      "mas parede: 2\n",
      "p/: 2\n",
      "painel duto led tellha galão quadrado: 2\n",
      "parquet veniz retro: 2\n",
      "reparador x: 2\n",
      "revestimento base espelho asfáltica: 2\n",
      "sika quarto externa talher anel: 2\n",
      "superstar branca100x100 mesa oleo: 2\n",
      "termofixo 10m2piso argamassa: 2\n",
      "tesoura banheiro canario adesivos x 1180: 2\n",
      "tinta 1433393 rodapé: 2\n",
      "unic box: 2\n",
      "verde gesso biancogres: 2\n",
      "1658115 sanitário mm 1252445: 3\n",
      "1700600 654019 47,2x47,2 gua: 3\n",
      "220 placa piso 176.177-3: 3\n",
      "595675 vaso hp: 3\n",
      "60x60 turbo: 3\n",
      "assento dágua: 3\n",
      "bloco pastilhas 60x60: 3\n",
      "bocais 6 coral chave caixa: 3\n",
      "branco x: 3\n",
      "cabinho x72 derrapante beije: 3\n",
      "coral eliane falso: 3\n",
      "cromada 171751 franke: 3\n",
      "gatilho tigre piso inox cozinhas portokoll: 3\n",
      "glasurit fluorescente delta avalon: 3\n",
      "grill. texas: 3\n",
      "lavavel: 3\n",
      "mon tampa 1919890: 3\n",
      "pano cozinha: 3\n",
      "parede fio lavatório: 3\n",
      "pei trail hammerite azulejo: 3\n",
      "pendente 674826: 3\n",
      "quadro sala decorativos: 3\n",
      "sala arno ducha acoplado: 3\n",
      "taschibra armario externas: 3\n",
      "tinta banheiro rejunte: 3\n",
      "vaso não acessórios lixeira panela: 3\n",
      "50mm gesso cidades: 4\n",
      "a aluminio buffet coral: 4\n",
      "banheira cuba eletrica revestimento cepar wood: 4\n",
      "bicas deca b banca fria: 4\n",
      "bloqueador - 804991: 4\n",
      "dois acrilica: 4\n",
      "doro espacador: 4\n",
      "elétrico: 4\n",
      "taschibra polido pva sobrepor janela: 4\n",
      "tinta branca copag porcelanato: 4\n",
      "1/4 nivel: 5\n",
      "1080326 advance o: 5\n",
      "1499980 sanitario cega: 5\n",
      "278653 brastem multiuso: 5\n",
      "area cozinha pvc 60x40 rejunte caixa: 5\n",
      "arouca universal espacador: 5\n",
      "glacier mix box: 5\n",
      "pintalar rejunte maciço: 5\n",
      "prata acetinada controle: 5\n",
      "textura 35070: 5\n",
      "tinta colante: 5\n",
      "chuveiro cortag: 6\n",
      "messa dunas: 6\n",
      "suvinil espatula calha cabide deca spots: 6\n",
      "tinta bold eletrico torneira: 6\n",
      "495573 macho luva cozinha 54 1428624: 7\n",
      "borracheiro pisos 50x40: 7\n",
      "canalheta pisos 1709046 1253220 cm: 7\n",
      "led celular horizontal marrom: 7\n",
      "polos 4x4 3,6l aspen banheiro: 7\n",
      "preta pra: 7\n",
      "50 jogo vaso gelo: 8\n",
      "embutido lavar picado: 8\n",
      "marca tanque rodape duplo,: 8\n",
      "piso 1738488 banheiro: 8\n",
      "quartzolit carbon italia concreto: 8\n",
      "rubinettos portinari lavatorio decostar: 8\n",
      "telha banquetas hammerite: 8\n",
      "40x40 portobello: 9\n",
      "531456 furo: 9\n",
      "72600 banheiro armário deca bege: 9\n",
      "banheiro 18l tinta: 9\n",
      "janela solar fort bica tecril armario: 9\n",
      "luminária rodinhas: 9\n",
      "pado pote fioranno: 9\n",
      "pendente sala: 9\n",
      "porta higienica: 9\n",
      "tampa alavanca tanques armarios eco piso: 9\n",
      "assento quadrado metaliva: 10\n",
      "cpvc automática 18l: 10\n",
      "vivencia cerâmica tijolo decorativo: 10\n",
      "torneira v panelas: 11\n",
      "1766570 siemens 84 segurança elétrico 1387782: 12\n",
      "45x45 código,: 12\n",
      "torneira maquina brava acrilico campahia interruptor: 12\n",
      "amendola: 16\n",
      "porcelanato pvc filtro: 23\n",
      "apolo cabeceiras pintar chuveiro: 24\n",
      "lampada branco: 31\n",
      "bivolt azul: 38\n",
      "1819798 tubo corante black: 43\n",
      "dijuntor: 95\n"
     ]
    }
   ],
   "source": [
    "for key, value in sorted(rank.items(), key=lambda item: (item[1], item[0])):\n",
    "    print (\"%s: %s\" % (key, value))\n",
    "\n",
    "#Thanks to user Zoynels at:\n",
    "#https://www.saltycrane.com/blog/2007/09/how-to-sort-python-dictionary-by-keys/"
   ]
  },
  {
   "cell_type": "markdown",
   "metadata": {},
   "source": [
    "### The search query with the highest click-through rate is ```dijuntor``` with 95 clicks\n",
    "\n",
    "The other ranking queries can be seen sorted on the text box above."
   ]
  },
  {
   "cell_type": "markdown",
   "metadata": {},
   "source": [
    "## 4. When is the site most busy?¶\n",
    "\n",
    "#### Do both what part of the day and what day of the week.\n",
    "\n",
    "Well this is a pretty straight forward. I'll consider any page, product, search or transaction as **operations**. In this question, instead of the problem we had with question 2 about mobile use, the fact that we want the use of the ecommerce in general makes the task a little easier. Any operation is a use of the system and should be consider.\n",
    "\n",
    "Since the question don't refine too much about what it want, I'll take the overall use in week and the usage on the peak day. This information should show what is peak hour of navigation and in what day of the week, also the bottom use of the same set (worst hour of peak day and worst day of the week). The numbers should help selecting better marketing strategies and better computational resources allocation for those very busy hours. "
   ]
  },
  {
   "cell_type": "code",
   "execution_count": 17,
   "metadata": {},
   "outputs": [],
   "source": [
    "def dayWeek(df,busyWeek):\n",
    "    for index, item in df.iterrows():\n",
    "        if (item['date'] != None):\n",
    "            itemDate = item['date'].split(' ')[0]\n",
    "            if (itemDate not in busyWeek):\n",
    "                busyWeek[itemDate] = 1\n",
    "            else:\n",
    "                busyWeek[itemDate] += 1\n",
    "    return busyWeek"
   ]
  },
  {
   "cell_type": "code",
   "execution_count": 18,
   "metadata": {},
   "outputs": [
    {
     "name": "stdout",
     "output_type": "stream",
     "text": [
      "{'2017-06-03': 75129, '2017-06-04': 77361, '2017-06-01': 100154, '2017-06-07': 102757, '2017-06-06': 107032, '2017-06-02': 106420, '2017-06-05': 123202}\n"
     ]
    }
   ],
   "source": [
    "busyWeek = {}\n",
    "busyWeek = dayWeek(dfPage,busyWeek)\n",
    "busyWeek = dayWeek(dfProduct,busyWeek)\n",
    "busyWeek = dayWeek(dfSearch,busyWeek)\n",
    "busyWeek = dayWeek(dfTransaction,busyWeek)\n",
    "\n",
    "print(busyWeek)"
   ]
  },
  {
   "cell_type": "code",
   "execution_count": 19,
   "metadata": {},
   "outputs": [],
   "source": [
    "def hourDay(df,dateWeek, busyDay):\n",
    "    for index, item in df.iterrows():\n",
    "        if (item['date'] != None):\n",
    "            if (dateWeek == item['date'].split(' ')[0]):\n",
    "                itemDate = item['date'].split(' ')[1]\n",
    "                itemDate = datetime.datetime.strptime(itemDate, \"%H:%M:%S\")\n",
    "                for i in range(24):\n",
    "                    #first 3 values are year, month and day. Useless now.\n",
    "                    if (datetime.datetime(1900,1,1,i,0,0) <= itemDate <= datetime.datetime(1900,1,1,i,59,59)):\n",
    "                        if (i not in busyDay):\n",
    "                            busyDay[i] = 1\n",
    "                        else:\n",
    "                            busyDay[i] += 1\n",
    "    return busyDay"
   ]
  },
  {
   "cell_type": "code",
   "execution_count": 20,
   "metadata": {},
   "outputs": [
    {
     "name": "stdout",
     "output_type": "stream",
     "text": [
      "{0: 2073, 1: 1109, 2: 816, 3: 328, 4: 347, 5: 258, 6: 692, 8: 3865, 9: 6481, 10: 7850, 11: 8343, 7: 1706, 12: 6929, 13: 7319, 14: 7776, 15: 7671, 16: 8127, 17: 7250, 18: 9664, 19: 8270, 20: 8121, 21: 7685, 22: 6149, 23: 4373}\n"
     ]
    }
   ],
   "source": [
    "busyDay = {}\n",
    "dataWeek = '2017-06-05'\n",
    "busyDay = hourDay(dfPage,dataWeek,busyDay)\n",
    "busyDay = hourDay(dfProduct,dataWeek,busyDay)\n",
    "busyDay = hourDay(dfSearch,dataWeek,busyDay)\n",
    "busyDay = hourDay(dfTransaction,dataWeek,busyDay)\n",
    "\n",
    "print(busyDay)"
   ]
  },
  {
   "cell_type": "code",
   "execution_count": 21,
   "metadata": {},
   "outputs": [
    {
     "data": {
      "image/png": "[encoded data removed]",
      "text/plain": [
       "<matplotlib.figure.Figure at 0x7f14a29cf780>"
      ]
     },
     "metadata": {},
     "output_type": "display_data"
    }
   ],
   "source": [
    "sortedKeys = sorted(busyWeek.keys())\n",
    "sortedValues = []\n",
    "for i in sortedKeys:\n",
    "    sortedValues.append(busyWeek[i])\n",
    "\n",
    "plt.title('Week use chart')    \n",
    "plt.ylabel('Operations')\n",
    "plt.xlabel('Day')\n",
    "plt.bar(range(len(busyWeek)), sortedValues, align='center')\n",
    "plt.xticks(range(len(busyWeek)), sortedKeys,rotation = 45)\n",
    "\n",
    "plt.show()"
   ]
  },
  {
   "cell_type": "code",
   "execution_count": 22,
   "metadata": {},
   "outputs": [
    {
     "data": {
      "image/png": "[encoded data removed]",
      "text/plain": [
       "<matplotlib.figure.Figure at 0x7f14a298fcc0>"
      ]
     },
     "metadata": {},
     "output_type": "display_data"
    }
   ],
   "source": [
    "plt.figure(figsize=(10,6))\n",
    "plt.title('Day use chart')    \n",
    "plt.ylabel('Operations')\n",
    "plt.xlabel('Hour')\n",
    "plt.bar(range(len(busyDay)), list(busyDay.values()), align='center')\n",
    "plt.xticks(range(len(busyDay)), range(24))\n",
    "\n",
    "plt.show()"
   ]
  },
  {
   "cell_type": "markdown",
   "metadata": {},
   "source": [
    "### The peak day of the week is 05/06/2017 and the peak hour is between 18:00:00 and 18:59:59.\n",
    "\n",
    "Okay, first the answers to the question, now some numbers. On the day 05/06/2017 (Monday) we have a total of 123.202 operations that includes pages views, viewed products, searchs and transactions. The hour that had most usage, between 18:00:00 and 18:59:59, had 9.664 operations. \n",
    "\n",
    "Above can be seen two charts, the ```Week use chart``` relative to the week peak and ```Day use chart``` relative to the day peak."
   ]
  },
  {
   "cell_type": "markdown",
   "metadata": {},
   "source": [
    "## 5. What is the share of revenue among categories brought by Campaign_2?¶\n",
    "#### Use last touch attribution\n",
    "\n",
    "Let's discuss this question them. First, how do we get the revenue brought by ```Campaign_2``` considering last touch attribution? Well that's easy if the ```utm_campaign``` of ```dfTransaction``` indicates those campaigns, but life is never easy, right? The transactions in ```dfTransaction``` have no ```Campaign_2``` atribute so we need to get that info another way, my solution to this is getting the entries with ```Campaign_2``` on the ```dfProduct``` data frame. After getting some info of those operations, I can compare then with the ```dfTransaction``` data frame and get the prices only the valid ones are using with ```visitor``` unique ID field.\n",
    "\n",
    "For this question I'll get three informations as answers. First the total value brought by ```Campaign_2``` through items sold based on this campaign. Second the total revenue of clients that bought itens of this campaign, because sometimes the client buys more than one item even if it arrived at the ecommerce by a campaign item. Third is a chart with the revenue among categories, as it is asked. "
   ]
  },
  {
   "cell_type": "code",
   "execution_count": 23,
   "metadata": {},
   "outputs": [],
   "source": [
    "campaignTwo = []\n",
    "for index,item in dfProduct.iterrows():\n",
    "    if (item['utm_campaign'] == 'Campaign_2'):\n",
    "        if (item['status'] != 'UNAVAILABLE'):\n",
    "            d = {}\n",
    "            d['product'] = item['product']\n",
    "            d['visitor'] = item['visitor']\n",
    "            d['category'] = item ['category']\n",
    "            campaignTwo.append(d)"
   ]
  },
  {
   "cell_type": "code",
   "execution_count": 24,
   "metadata": {},
   "outputs": [
    {
     "name": "stdout",
     "output_type": "stream",
     "text": [
      "10479\n"
     ]
    }
   ],
   "source": [
    "print(len(campaignTwo))"
   ]
  },
  {
   "cell_type": "code",
   "execution_count": 25,
   "metadata": {},
   "outputs": [
    {
     "name": "stdout",
     "output_type": "stream",
     "text": [
      "8838\n"
     ]
    }
   ],
   "source": [
    "for i in campaignTwo:\n",
    "    aux = 0\n",
    "    for index,j in enumerate(campaignTwo):\n",
    "        if (i['product'] == j['product'] and i['visitor'] == j['visitor']):\n",
    "            aux += 1\n",
    "            if (aux == 2):\n",
    "                campaignTwo.pop(index)\n",
    "                break\n",
    "print(len(campaignTwo))"
   ]
  },
  {
   "cell_type": "markdown",
   "metadata": {},
   "source": [
    "Explaining what I did above, I ran the ```campaignTwo``` list through a preprocess to get some repeated entries off. I assume that those entries were people that looked at the product through the campaign more than once. This preprocess will speed thing up a little and give a more precise result. I'll talk more about it below."
   ]
  },
  {
   "cell_type": "code",
   "execution_count": 26,
   "metadata": {},
   "outputs": [
    {
     "name": "stdout",
     "output_type": "stream",
     "text": [
      "179\n"
     ]
    }
   ],
   "source": [
    "clients = []\n",
    "for i in campaignTwo:\n",
    "    for index,item in dfTransaction.iterrows():\n",
    "        if (i['visitor'] == item['visitor'] and item['utm_campaign'] == None): #(item['utm_campaign'] == 'Campaign_2') == 0 \n",
    "            d = {}\n",
    "            d['orderItems'] = item['orderItems']\n",
    "            d['visitor'] = item['visitor']\n",
    "            clients.append(d)\n",
    "print(len(clients))"
   ]
  },
  {
   "cell_type": "markdown",
   "metadata": {},
   "source": [
    "Now about the \"precise result\" part that I told before, I would like to discuss more. In ```campaignTwo``` there is a possibility, as I said before, that the same person have two or more entries. This is bad for performance because there is more entries to check but, more importantly, it's bad for the overall precision of the result. That's because if we have more than one entry per person when we check this entry on ```dfTransaction```, by the way I coded it, it will duplicate the entries on ```clients``` list. This will create a unrealistic value for the revenue of the campaign."
   ]
  },
  {
   "cell_type": "code",
   "execution_count": 27,
   "metadata": {},
   "outputs": [],
   "source": [
    "totalRevenue = []\n",
    "directRevenue = 0\n",
    "categoryRevenue = {}\n",
    "for i in campaignTwo:\n",
    "    for index, item in enumerate(clients):\n",
    "        if (i['visitor'] == item['visitor']):\n",
    "            for orderItems in item['orderItems']:\n",
    "                if (orderItems['product'] == i['product']):\n",
    "                    totalRevenue.append(item)\n",
    "                    directRevenue += orderItems['price']*orderItems['quantity']\n",
    "                    l = i['category'].split('|')\n",
    "                    for j in l:\n",
    "                        if j not in categoryRevenue:\n",
    "                            categoryRevenue[j] = orderItems['price']\n",
    "                        else:\n",
    "                            categoryRevenue[j] += orderItems['price']\n",
    "                    clients.pop(index)\n",
    "                    break"
   ]
  },
  {
   "cell_type": "code",
   "execution_count": 28,
   "metadata": {},
   "outputs": [],
   "source": [
    "sumRevenue = 0\n",
    "for i in totalRevenue:\n",
    "    for j in i['orderItems']:\n",
    "        sumRevenue += j['price']*j['quantity']"
   ]
  },
  {
   "cell_type": "code",
   "execution_count": 29,
   "metadata": {},
   "outputs": [
    {
     "name": "stdout",
     "output_type": "stream",
     "text": [
      "17361.969999999994\n",
      "27335.910000000003\n"
     ]
    }
   ],
   "source": [
    "print(directRevenue)\n",
    "print(sumRevenue)"
   ]
  },
  {
   "cell_type": "code",
   "execution_count": 30,
   "metadata": {},
   "outputs": [
    {
     "data": {
      "image/png": "[encoded data removed]",
      "text/plain": [
       "<matplotlib.figure.Figure at 0x7f14a29c6b00>"
      ]
     },
     "metadata": {},
     "output_type": "display_data"
    }
   ],
   "source": [
    "plt.figure(figsize=(15.5,6))\n",
    "plt.grid(color='b',linestyle='--',linewidth=0.5)\n",
    "plt.title('Shared revenue among categories for \"Campaign_2\"')    \n",
    "plt.ylabel('Monetary unit ($)')\n",
    "plt.xlabel('Category')\n",
    "plt.bar(range(len(categoryRevenue)), list(categoryRevenue.values()), align='center')\n",
    "plt.xticks(range(len(categoryRevenue)), list(categoryRevenue.keys()),rotation = 45)\n",
    "\n",
    "plt.show()"
   ]
  },
  {
   "cell_type": "markdown",
   "metadata": {},
   "source": [
    "### The revenue of campaign 2 items is ``$17361.96`` and the total revenue of those clients is ``$27335.91``.\n",
    "\n",
    "The chart ```Shared revenue among categories for \"Campaign_2\"``` above shows the revenue of each category that had at least one product sold."
   ]
  },
  {
   "cell_type": "markdown",
   "metadata": {},
   "source": [
    "## 6. Estimate the impact of unavailable products\n",
    "#### Bonus points if you consider cross-elasticity\n",
    "\n",
    "In the description of this problem you guys give a hint to build a model to measure the impact of unavailable products and even say to consider cross-elasticity, probably between two items. The problem is, I didn't get what would be the objective of this model. Since measure the impact is a little vague (I know is on purpose but bear with me), let's imagine that we are looking for a number that measure this impact. I would guess we are talking about a **regression** problem, were I input some data about the unavailable products and something like a SVG or Gradient Boosting Regressor give me a result of it. I could build something like that using [scikit-learn](http://scikit-learn.org/stable/) library, I did it before this challenge, but I really didn't get how that model would work.\n",
    "\n",
    "Having this stated, I had an idea. I'll still estimate the impact of unavailable products but only guessing the number of lost transactions without using a model. We have the number of product pages viewed on ```dfProduct``` and the number of confirmed transactions on ```dfTransactions``` so we could take the ratio of conversion and apply on the total number of unavailable items.\n",
    "\n",
    "$N_{percent} = \\frac{transactions}{products}$\n",
    "\n",
    "The $N_{percent}$ will be a estimative of how much unavailable products would be bought. Then we apply it to the number of transactions giving us a estimative of how many of those didn't converted.\n",
    "\n",
    "$estimative = \\frac{transactions}{N_{percent}}$"
   ]
  },
  {
   "cell_type": "code",
   "execution_count": 31,
   "metadata": {},
   "outputs": [
    {
     "name": "stdout",
     "output_type": "stream",
     "text": [
      "0.005201926778655198\n"
     ]
    }
   ],
   "source": [
    "N = len(dfTransaction)/len(dfProduct)\n",
    "print(N)\n",
    "#percent from 0 to 1"
   ]
  },
  {
   "cell_type": "code",
   "execution_count": 32,
   "metadata": {},
   "outputs": [],
   "source": [
    "l = []\n",
    "for index,item in dfProduct.iterrows():\n",
    "    if (item['status'] == 'UNAVAILABLE'):\n",
    "        l.append(item)"
   ]
  },
  {
   "cell_type": "code",
   "execution_count": 33,
   "metadata": {},
   "outputs": [
    {
     "name": "stdout",
     "output_type": "stream",
     "text": [
      "2.88186743537498\n"
     ]
    }
   ],
   "source": [
    "conversion = len(dfTransaction)*N\n",
    "print(conversion)"
   ]
  },
  {
   "cell_type": "markdown",
   "metadata": {},
   "source": [
    "Okay, we have the number $2.88186743537498$ for conversion. This number doesn't say much but we can guess that, by having those products unavailable, the ecommerce lost about 3 transactions. Since we don't have the price of the products it's hard to make a estimative of how much the ecommerce would lose, it's possible to use a mean of the overall price of products, but I think this would be a bit of a stretch."
   ]
  },
  {
   "cell_type": "markdown",
   "metadata": {},
   "source": [
    "# And that sums up my report/challenge/code.\n",
    "\n",
    "About the answers I think every one bring something to the table and is a useful one. The vague nature of the questions let the analysis more challenging, and not just code and code but instead was necessary good thinking to get some info that was not only the answer, but a useful answer. I think of myself as a person that works well in group, since a lot of those questions could be discuss in a chat with other analysts, getting a better code (cleaner and with better performance) and better overral assertiveness. For example on question 3 it took a lot of time for me to understand that a target page is a referrer page on product that have been url in search, that could be easily discussed and found in a group work.\n",
    "\n",
    "The only question I'm not satisfied with the result is question 6. I still wondering how could this model be build, I think I still lacks this experience with real data frames, but the other questions looks good to me. \n",
    "\n",
    "Now it's up to you guys! See ya.\n"
   ]
  }
 ],
 "metadata": {
  "kernelspec": {
   "display_name": "Python 3",
   "language": "python",
   "name": "python3"
  },
  "language_info": {
   "codemirror_mode": {
    "name": "ipython",
    "version": 3
   },
   "file_extension": ".py",
   "mimetype": "text/x-python",
   "name": "python",
   "nbconvert_exporter": "python",
   "pygments_lexer": "ipython3",
   "version": "3.6.4"
  }
 },
 "nbformat": 4,
 "nbformat_minor": 2
}
